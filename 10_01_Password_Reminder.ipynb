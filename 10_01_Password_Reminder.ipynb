{
  "nbformat": 4,
  "nbformat_minor": 0,
  "metadata": {
    "colab": {
      "name": "10_01_Password_Reminder.ipynb",
      "provenance": [],
      "authorship_tag": "ABX9TyMk3mflwZjVcGo1vTQgy9gZ",
      "include_colab_link": true
    },
    "kernelspec": {
      "name": "python3",
      "display_name": "Python 3"
    },
    "language_info": {
      "name": "python"
    }
  },
  "cells": [
    {
      "cell_type": "markdown",
      "metadata": {
        "id": "view-in-github",
        "colab_type": "text"
      },
      "source": [
        "<a href=\"https://colab.research.google.com/github/hknkrks/Python_Assigment/blob/master/10_01_Password_Reminder.ipynb\" target=\"_parent\"><img src=\"https://colab.research.google.com/assets/colab-badge.svg\" alt=\"Open In Colab\"/></a>"
      ]
    },
    {
      "cell_type": "code",
      "metadata": {
        "colab": {
          "base_uri": "https://localhost:8080/"
        },
        "id": "i3SU6TwzIBRO",
        "outputId": "b7cdf643-90d4-4b09-b742-715c25d57730"
      },
      "source": [
        "# Assignment - 10/01 (Password Reminder)\n",
        "secretmsj = \"1q2w3e4r5t6y7u8ı9o0p!'^+%&/()\"\n",
        "kul_ad = 'hakan'\n",
        "giris_ad = input('kullanıcı adı giriniz : ').lower()\n",
        "if giris_ad == kul_ad :\n",
        "  print('Merhaba', giris_ad, 'secretmsj :', secretmsj)\n",
        "else:\n",
        "    print('Merhaba', giris_ad, 'Ad gecersiz! Daha sonra tekrar dene !')"
      ],
      "execution_count": null,
      "outputs": [
        {
          "output_type": "stream",
          "name": "stdout",
          "text": [
            "kullanıcı adı giriniz : hakan\n",
            "Merhaba hakan secretmsj : 1q2w3e4r5t6y7u8ı9o0p!'^+%&/()\n"
          ]
        }
      ]
    },
    {
      "cell_type": "code",
      "metadata": {
        "id": "xE-m69-nImU-"
      },
      "source": [
        ""
      ],
      "execution_count": null,
      "outputs": []
    }
  ]
}