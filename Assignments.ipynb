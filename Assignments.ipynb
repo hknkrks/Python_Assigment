{
  "cells": [
    {
      "cell_type": "markdown",
      "metadata": {
        "colab_type": "text",
        "id": "view-in-github"
      },
      "source": [
        "<a href=\"https://colab.research.google.com/github/hknkrks/elifemir/blob/master/Assignments.ipynb\" target=\"_parent\"><img src=\"https://colab.research.google.com/assets/colab-badge.svg\" alt=\"Open In Colab\"/></a>"
      ]
    },
    {
      "cell_type": "code",
      "execution_count": 2,
      "metadata": {
        "colab": {
          "base_uri": "https://localhost:8080/"
        },
        "id": "i3SU6TwzIBRO",
        "outputId": "b7cdf643-90d4-4b09-b742-715c25d57730"
      },
      "outputs": [
        {
          "name": "stdout",
          "output_type": "stream",
          "text": [
            "kullanıcı adı giriniz : hakan\n",
            "Merhaba hakan secretmsj : 1q2w3e4r5t6y7u8ı9o0p!'^+%&/()\n"
          ]
        }
      ],
      "source": [
        "# Password Reminder\n",
        "secretmsj = \"1q2w3e4r5t6y7u8ı9o0p!'^+%&/()\"\n",
        "kul_ad = 'hakan'\n",
        "giris_ad = input('kullanıcı adı giriniz : ').lower()\n",
        "if giris_ad == kul_ad :\n",
        "  print('Merhaba', giris_ad, 'secretmsj :', secretmsj)\n",
        "else:\n",
        "    print('Merhaba', giris_ad, 'Ad gecersiz! Daha sonra tekrar dene !')"
      ]
    },
    {
      "cell_type": "code",
      "execution_count": null,
      "metadata": {},
      "outputs": [],
      "source": []
    },
    {
      "cell_type": "code",
      "execution_count": null,
      "metadata": {
        "id": "xE-m69-nImU-"
      },
      "outputs": [],
      "source": []
    }
  ],
  "metadata": {
    "colab": {
      "authorship_tag": "ABX9TyP9tFw05gMVIf4J/xgbORiE",
      "include_colab_link": true,
      "name": "Assignments.ipynb",
      "provenance": []
    },
    "kernelspec": {
      "display_name": "Python 3",
      "name": "python3"
    },
    "language_info": {
      "name": "python"
    }
  },
  "nbformat": 4,
  "nbformat_minor": 0
}
