{
  "nbformat": 4,
  "nbformat_minor": 0,
  "metadata": {
    "colab": {
      "name": "10_08_(Letters Count).ipynb",
      "provenance": []
    },
    "kernelspec": {
      "name": "python3",
      "display_name": "Python 3"
    },
    "language_info": {
      "name": "python"
    }
  },
  "cells": [
    {
      "cell_type": "code",
      "execution_count": 10,
      "metadata": {
        "colab": {
          "base_uri": "https://localhost:8080/"
        },
        "id": "8aTmF-lHs6_X",
        "outputId": "27e444e0-c4bd-4488-b0a8-9945935c07ea"
      },
      "outputs": [
        {
          "output_type": "stream",
          "name": "stdout",
          "text": [
            " Hadi Bir Şeyler Yaz ! ! ! Clarusway 10.Cohort\n",
            "{'c': 2, 'l': 1, 'a': 2, 'r': 2, 'u': 1, 's': 1, 'w': 1, 'y': 1, ' ': 1, '1': 1, '0': 1, '.': 1, 'o': 2, 'h': 1, 't': 1}\n"
          ]
        }
      ],
      "source": [
        "# Girilen değerin karakterlerini adetleri ile dict'e yazdıran kodlama\n",
        "sozluk = {}\n",
        "girdi = input(\" Hadi Bir Şeyler Yaz ! ! ! \").lower()\n",
        "for i in girdi:\n",
        "  sozluk.setdefault(i,(girdi.count(i)))\n",
        "print(sozluk)"
      ]
    },
    {
      "cell_type": "code",
      "source": [
        ""
      ],
      "metadata": {
        "id": "plWvhkGruidk"
      },
      "execution_count": null,
      "outputs": []
    }
  ]
}