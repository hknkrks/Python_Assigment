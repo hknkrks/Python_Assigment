{
  "nbformat": 4,
  "nbformat_minor": 0,
  "metadata": {
    "colab": {
      "name": "Assignment - Pro - 1 (Is it a Prime Number?)ipynb",
      "provenance": []
    },
    "kernelspec": {
      "name": "python3",
      "display_name": "Python 3"
    },
    "language_info": {
      "name": "python"
    }
  },
  "cells": [
    {
      "cell_type": "code",
      "metadata": {
        "id": "GeDRfnxf7pGh"
      },
      "source": [
        "# Kullanıcının girdiği sayının asal sayı olup .. \n",
        "# .. olmadığını kontrol eden kod.\n",
        "asal = int(input('Sayı Giriniz : '))\n",
        "if asal != 2 and asal % 2 == 0 :\n",
        "  print(asal, 'Asal sayı değildir')\n",
        "elif asal != 3 and asal % 3 == 0 :\n",
        "  print(asal, 'Asal sayı değildir')\n",
        "else :\n",
        "  print(asal , 'ASAL SAYI')"
      ],
      "execution_count": null,
      "outputs": []
    },
    {
      "cell_type": "code",
      "metadata": {
        "id": "f37eipQH8dMw"
      },
      "source": [
        "\n"
      ],
      "execution_count": 33,
      "outputs": []
    }
  ]
}