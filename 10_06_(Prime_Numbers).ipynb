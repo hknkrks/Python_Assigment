{
  "nbformat": 4,
  "nbformat_minor": 0,
  "metadata": {
    "colab": {
      "name": "10/06 (Prime Numbers).ipynb",
      "provenance": []
    },
    "kernelspec": {
      "name": "python3",
      "display_name": "Python 3"
    },
    "language_info": {
      "name": "python"
    }
  },
  "cells": [
    {
      "cell_type": "code",
      "metadata": {
        "colab": {
          "base_uri": "https://localhost:8080/"
        },
        "id": "IX7emdEW_Llv",
        "outputId": "d8df5a76-9c7e-4033-c054-c64a8d300ca3"
      },
      "source": [
        "# kullanıcı tarafından belirtilen sayıya kadar asal sayı bulan kodlama.\n",
        "asalslist = []\n",
        "son = int(input(\"Kaça Kadar Asal Sayı Bulmak İstiyorsunuz ? \"))\n",
        "for i in range(son+1):\n",
        "  if i != 2 and i % 2 == 0 :\n",
        "    continue\n",
        "  elif i != 3 and i % 3 == 0 :\n",
        "    continue\n",
        "  elif i % i**0.5 == 0:\n",
        "    continue\n",
        "  else :\n",
        "    asalslist.append(i)\n",
        "    \n",
        "print(asalslist)\n",
        "print(son, \"rakamına kadar\", len(asalslist),\"tane asal sayı vardır.\")\n"
      ],
      "execution_count": 19,
      "outputs": [
        {
          "output_type": "stream",
          "name": "stdout",
          "text": [
            "Kaça Kadar Asal Sayı Bulmak İstiyorsunuz ? 47\n",
            "[2, 3, 5, 7, 11, 13, 17, 19, 23, 29, 31, 35, 37, 41, 43, 47]\n",
            "47 rakamına kadar 16 tane asal sayı vardır.\n"
          ]
        }
      ]
    },
    {
      "cell_type": "code",
      "metadata": {
        "id": "NklzA_aVBO7Z"
      },
      "source": [
        ""
      ],
      "execution_count": null,
      "outputs": []
    }
  ]
}