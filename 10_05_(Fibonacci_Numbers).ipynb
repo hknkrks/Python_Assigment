{
  "nbformat": 4,
  "nbformat_minor": 0,
  "metadata": {
    "colab": {
      "name": "10/05 (Fibonacci Numbers).ipynb",
      "provenance": []
    },
    "kernelspec": {
      "name": "python3",
      "display_name": "Python 3"
    },
    "language_info": {
      "name": "python"
    }
  },
  "cells": [
    {
      "cell_type": "code",
      "metadata": {
        "colab": {
          "base_uri": "https://localhost:8080/"
        },
        "id": "tihtqjl4JkuX",
        "outputId": "c13214cc-e55a-4525-dcc6-ff389254f173"
      },
      "source": [
        "# Fibonnacci Numbers\n",
        "def fib(n):\n",
        "  a,b = 0,1\n",
        "  while a<n+1:\n",
        "    print(a)\n",
        "    a,b = b, a+b\n",
        "fib(55)"
      ],
      "execution_count": 16,
      "outputs": [
        {
          "output_type": "stream",
          "name": "stdout",
          "text": [
            "0\n",
            "1\n",
            "1\n",
            "2\n",
            "3\n",
            "5\n",
            "8\n",
            "13\n",
            "21\n",
            "34\n",
            "55\n"
          ]
        }
      ]
    },
    {
      "cell_type": "code",
      "metadata": {
        "id": "OzfTVWUZKQ3Z"
      },
      "source": [
        ""
      ],
      "execution_count": null,
      "outputs": []
    }
  ]
}