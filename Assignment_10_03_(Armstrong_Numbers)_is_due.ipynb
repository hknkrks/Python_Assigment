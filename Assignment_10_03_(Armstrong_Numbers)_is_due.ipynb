{
  "nbformat": 4,
  "nbformat_minor": 0,
  "metadata": {
    "colab": {
      "name": "Assignment - 10/03 (Armstrong Numbers) is due.ipynb",
      "provenance": [],
      "collapsed_sections": []
    },
    "kernelspec": {
      "name": "python3",
      "display_name": "Python 3"
    },
    "language_info": {
      "name": "python"
    }
  },
  "cells": [
    {
      "cell_type": "code",
      "metadata": {
        "id": "ys_kEK1Knxzm",
        "colab": {
          "base_uri": "https://localhost:8080/"
        },
        "outputId": "8defd04b-b12b-4f53-fa36-795a238e7792"
      },
      "source": [
        "# Armstrong sayı kontrol pro.\n",
        "no1 = []\n",
        "ust = []\n",
        "gir = (input(\"S a y ı  G i r i n i z  :  \"))\n",
        "if len(gir) > 5 or len(gir) <= 2:\n",
        "  print(\"lütfen 3 , 4 , 5 haneli sayı giriniz\")\n",
        "sayhal = int(gir)\n",
        "toplu = list(gir)\n",
        "if len(toplu) == 3:\n",
        "  for i in toplu:\n",
        "    no1.append(int(i))\n",
        "  for i in no1:\n",
        "    ust.append(i**3)\n",
        "    topla = sum(ust)\n",
        "  if sayhal == topla:\n",
        "    print(gir, ' : ', \"ARMSTRONG SAYI\")\n",
        "  else :\n",
        "    print(\"Girilen sayı armstrong değil\")\n",
        "if len(toplu) == 4:\n",
        "  for i in toplu:\n",
        "    no1.append(int(i))\n",
        "  for i in no1:\n",
        "    ust.append(i**4)\n",
        "  topla = sum(ust)\n",
        "  if sayhal == topla:\n",
        "    print(gir, ' : ', \"ARMSTRONG SAYI\")\n",
        "  else :\n",
        "    print(\"Girilen sayı armstrong değil\")\n",
        "\n",
        "if len(toplu) == 5:\n",
        "  for i in toplu:\n",
        "    no1.append(int(i))\n",
        "  for i in no1:\n",
        "    ust.append(i**5)\n",
        "  topla = sum(ust)\n",
        "  if sayhal == topla:\n",
        "    print(gir, ' : ', \"ARMSTRONG SAYI\")\n",
        "  else :\n",
        "    print(\"Girilen sayı armstrong değil\")\n",
        "\n",
        "# 153 370 371 407 9474 93084 örnek arm sayılar"
      ],
      "execution_count": 1,
      "outputs": [
        {
          "output_type": "stream",
          "name": "stdout",
          "text": [
            "S a y ı  G i r i n i z  :  370\n",
            "370  :  ARMSTRONG SAYI\n"
          ]
        }
      ]
    },
    {
      "cell_type": "code",
      "metadata": {
        "colab": {
          "base_uri": "https://localhost:8080/"
        },
        "id": "W98quf0pClj-",
        "outputId": "757dcea0-ea1a-4577-8fd0-9840e84548bc"
      },
      "source": [
        "#100 den 1 milyona kadar ki sayıları\n",
        "#tarayıp armstrong sayıları bulan kodlama\n",
        "ayrı = []\n",
        "toplu = []\n",
        "for i in range(100,999999):\n",
        "  if i <= 999:\n",
        "    strhali = str(i)\n",
        "    lsthali = list(strhali)\n",
        "    for a in lsthali:\n",
        "      ayrı.append(int(a))\n",
        "    for b in ayrı:\n",
        "      toplu.append(b**3)\n",
        "      topla = sum(toplu)\n",
        "    if i != topla:\n",
        "      ayrı.clear() , toplu.clear()\n",
        "    else:\n",
        "      print(i , \"armstrong sayı\")\n",
        "      ayrı.clear() , toplu.clear()\n",
        "      \n",
        "\n",
        "  elif i >= 1000 and i <= 9999:\n",
        "    strhali = str(i)\n",
        "    lsthali = list(strhali)\n",
        "    for a in lsthali:\n",
        "      ayrı.append(int(a))\n",
        "    for b in ayrı:\n",
        "      toplu.append(b**4)\n",
        "      topla = sum(toplu)\n",
        "    if i != topla:\n",
        "      ayrı.clear() , toplu.clear()\n",
        "    else:\n",
        "      print(i , \"armstrong sayı\")\n",
        "      ayrı.clear() , toplu.clear()\n",
        "\n",
        "  elif i >= 10000 and i <= 99999:\n",
        "    strhali = str(i)\n",
        "    lsthali = list(strhali)\n",
        "    for a in lsthali:\n",
        "      ayrı.append(int(a))\n",
        "    for b in ayrı:\n",
        "      toplu.append(b**5)\n",
        "      topla = sum(toplu)\n",
        "    if i != topla:\n",
        "      ayrı.clear() , toplu.clear()\n",
        "    else:\n",
        "      print(i , \"armstrong sayı\")\n",
        "      ayrı.clear() , toplu.clear()\n",
        "\n",
        "  elif i >= 100000 and i <= 999999:\n",
        "    strhali = str(i)\n",
        "    lsthali = list(strhali)\n",
        "    for a in lsthali:\n",
        "      ayrı.append(int(a))\n",
        "    for b in ayrı:\n",
        "      toplu.append(b**6)\n",
        "      topla = sum(toplu)\n",
        "    if i != topla:\n",
        "      ayrı.clear() , toplu.clear()\n",
        "    else:\n",
        "      print(i , \"armstrong sayı\")\n",
        "      ayrı.clear() , toplu.clear()"
      ],
      "execution_count": null,
      "outputs": [
        {
          "output_type": "stream",
          "name": "stdout",
          "text": [
            "153 armstrong sayı\n",
            "370 armstrong sayı\n",
            "371 armstrong sayı\n",
            "407 armstrong sayı\n",
            "1634 armstrong sayı\n",
            "8208 armstrong sayı\n",
            "9474 armstrong sayı\n",
            "54748 armstrong sayı\n",
            "92727 armstrong sayı\n",
            "93084 armstrong sayı\n",
            "548834 armstrong sayı\n"
          ]
        }
      ]
    },
    {
      "cell_type": "code",
      "metadata": {
        "id": "W6zTVZ4UaIh_"
      },
      "source": [
        "\n",
        "\n",
        "  \n",
        "\n",
        "  \n",
        "\n",
        "  \n",
        "\n"
      ],
      "execution_count": null,
      "outputs": []
    },
    {
      "cell_type": "code",
      "metadata": {
        "id": "ZOLBMb7m7BYZ"
      },
      "source": [
        "\n",
        "\n",
        "\n",
        "  \n",
        "\n"
      ],
      "execution_count": null,
      "outputs": []
    },
    {
      "cell_type": "code",
      "metadata": {
        "id": "w05u6f2i9eHa",
        "colab": {
          "base_uri": "https://localhost:8080/",
          "height": 182
        },
        "outputId": "1737f696-4ee8-49cb-9300-9cb82cb4900a"
      },
      "source": [
        "z = \"155\"\n",
        "print(sum(z))"
      ],
      "execution_count": null,
      "outputs": [
        {
          "output_type": "error",
          "ename": "TypeError",
          "evalue": "ignored",
          "traceback": [
            "\u001b[0;31m---------------------------------------------------------------------------\u001b[0m",
            "\u001b[0;31mTypeError\u001b[0m                                 Traceback (most recent call last)",
            "\u001b[0;32m<ipython-input-7-33f6b8ddd35b>\u001b[0m in \u001b[0;36m<module>\u001b[0;34m()\u001b[0m\n\u001b[1;32m      1\u001b[0m \u001b[0mz\u001b[0m \u001b[0;34m=\u001b[0m \u001b[0;34m\"155\"\u001b[0m\u001b[0;34m\u001b[0m\u001b[0;34m\u001b[0m\u001b[0m\n\u001b[0;32m----> 2\u001b[0;31m \u001b[0mprint\u001b[0m\u001b[0;34m(\u001b[0m\u001b[0msum\u001b[0m\u001b[0;34m(\u001b[0m\u001b[0mz\u001b[0m\u001b[0;34m)\u001b[0m\u001b[0;34m)\u001b[0m\u001b[0;34m\u001b[0m\u001b[0;34m\u001b[0m\u001b[0m\n\u001b[0m",
            "\u001b[0;31mTypeError\u001b[0m: unsupported operand type(s) for +: 'int' and 'str'"
          ]
        }
      ]
    },
    {
      "cell_type": "code",
      "metadata": {
        "id": "k-Q4Xw5Ao23T"
      },
      "source": [
        ""
      ],
      "execution_count": null,
      "outputs": []
    }
  ]
}