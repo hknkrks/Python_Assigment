{
  "nbformat": 4,
  "nbformat_minor": 0,
  "metadata": {
    "colab": {
      "name": "Assignment - 10/02 (Covid-19 Risk with If Statements).ipynb",
      "provenance": []
    },
    "kernelspec": {
      "name": "python3",
      "display_name": "Python 3"
    },
    "language_info": {
      "name": "python"
    }
  },
  "cells": [
    {
      "cell_type": "code",
      "metadata": {
        "id": "55vECvZSsDwM"
      },
      "source": [
        "#Covid-19 Risk with If Statements\n",
        "age = input('75 yaş üstündemisiniz ? (yes or no) : ').lower()\n",
        "chronic = input('Kronik Hastalığınız varmı?(yes or no) :').lower()\n",
        "immune =input('Bağışıklık sisteminiz düşükmü ?(yes or no) :').lower()\n",
        "if age == 'no' and chronic == 'no' and immune == 'no' :\n",
        "  print('risk : Koronavirüs Riskiniz Yok')\n",
        "else :\n",
        "  print('risk : Risk Seviyeniz Yüksek')"
      ],
      "execution_count": null,
      "outputs": []
    }
  ]
}